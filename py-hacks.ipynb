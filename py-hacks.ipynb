{
 "cells": [
  {
   "cell_type": "code",
   "execution_count": null,
   "metadata": {},
   "outputs": [],
   "source": [
    "# UNPACKING\n",
    "tup = (1, 2, 3, 4, 5)\n",
    "# to unpack:\n",
    "a, b, c, d, e = tup\n",
    "# the number of variables on LHS should <= length of collection on RHS\n",
    "print(a, b, c, d, e)"
   ]
  },
  {
   "cell_type": "code",
   "execution_count": null,
   "metadata": {},
   "outputs": [],
   "source": [
    "# MULTIPLE ASSIGNMENT/VARIABLE SWAP\n",
    "width, height = 400, 500  # can assign variables on one line\n",
    "print(width, height)\n",
    "# normal swapping:\n",
    "temp = height\n",
    "height = width\n",
    "width = temp\n",
    "print(width, height)\n",
    "# pythonic swapping\n",
    "height, width = width, height\n",
    "print(width, height)"
   ]
  },
  {
   "cell_type": "code",
   "execution_count": null,
   "metadata": {},
   "outputs": [],
   "source": [
    "# COMPREHENSIONS - ONE-LINERS\n",
    "# normal creation of list:\n",
    "myList = []\n",
    "for x in range(11):\n",
    "    myList.append(x)\n",
    "print(myList)\n",
    "# pythonic creation of nested list of multiplied even numbers using nested for loop:\n",
    "myOtherList = [[x * y for x in range(1, 11) if x % 2 == 0] for y in range(5, 0, -1)]\n",
    "print(myOtherList)\n",
    "# pythonic creation of dict e.g. of numbers 1-10 and their squares:\n",
    "myDict = {x: x**2 for x in range(11)}\n",
    "print(myDict)\n",
    "# also there are set and generator comprehensions"
   ]
  },
  {
   "cell_type": "code",
   "execution_count": null,
   "metadata": {},
   "outputs": [],
   "source": [
    "# OBJECT MULTIPLICATION\n",
    "print(\"hello \" * 5)\n",
    "print([1, 2, 3] * 5)\n",
    "print([[1, 2, 3]] * 5)"
   ]
  },
  {
   "cell_type": "code",
   "execution_count": null,
   "metadata": {},
   "outputs": [],
   "source": [
    "# TERNARY/INLINE CONDITIONS\n",
    "x = 1 if 2 > 3 else 0  # you must have an else\n",
    "print(x)"
   ]
  },
  {
   "cell_type": "code",
   "execution_count": null,
   "metadata": {},
   "outputs": [],
   "source": [
    "# ZIP FUNCTION\n",
    "names = [\"Gicheru\", \"Maina\", \"Mum\"]\n",
    "ages = [23, 17, 51]\n",
    "heights = [178, 170, 165]\n",
    "print(list(zip(names, ages, heights)))  # hover over zip for peek documentation\n",
    "# application:\n",
    "for name, height in zip(names, heights):\n",
    "    if height >= 170:\n",
    "        print(name)"
   ]
  },
  {
   "cell_type": "code",
   "execution_count": null,
   "metadata": {},
   "outputs": [],
   "source": [
    "# *ARGS AND **KWARGS\n",
    "# these allow you to pass an arbitrary number of positional arguments (*args) or keyword arguments (**kwargs)\n",
    "# note: \"args\" and \"kwargs\" are just variable names, it's the '*' and '**' that are important\n",
    "def foo(*args, **kwargs):\n",
    "    # *args returns a tuple of the positional arguments passed, in their order hence positional\n",
    "    # **kwargs returns a dictionary where the key is the argument's keyword and the value is the argument\n",
    "    print(args, kwargs[\"args4\"])\n",
    "\n",
    "\n",
    "args1 = [1, 2, 3]\n",
    "args2 = [4, 5, 6]\n",
    "args3 = [7, 8, 9]\n",
    "foo(args1, args2, args3, args4=[10, 11, 12])\n",
    "\n",
    "# alternative use:\n",
    "args = [1, 2, 3]\n",
    "kwargs = {\"arg1\": 1, \"arg2\": 2, \"arg3\": 3}\n",
    "\n",
    "\n",
    "def foo1(arg1, arg2, arg3):\n",
    "    print(arg1)\n",
    "\n",
    "\n",
    "def foo2(arg1=None, arg2=None, arg3=None):\n",
    "    print(arg2)\n",
    "\n",
    "\n",
    "foo1(*args)\n",
    "foo2(**kwargs)"
   ]
  },
  {
   "cell_type": "code",
   "execution_count": null,
   "metadata": {},
   "outputs": [],
   "source": [
    "# FOR-ELSE & WHILE-ELSE\n",
    "# used to help in differentiating if your loop terminated because of breaking out of it or because it has iterated\n",
    "# over entire iterable, without using a boolean\n",
    "target = 3\n",
    "search = [1, 2, 3, 4, 5, 6]\n",
    "for element in search:\n",
    "    if element == target:\n",
    "        print(\"I found it!\")\n",
    "        break\n",
    "else:\n",
    "    print(\"I did not find it!\")"
   ]
  },
  {
   "cell_type": "code",
   "execution_count": null,
   "metadata": {},
   "outputs": [],
   "source": [
    "# SORT BY KEY\n",
    "# used to define your own criteria for sorting a list/iterable\n",
    "myOtherList = [[x * y for x in range(1, 11) if x % 2 == 0] for y in range(5, 0, -1)]\n",
    "myOtherList.sort(key=lambda x: x[-1])\n",
    "print(myOtherList)"
   ]
  }
 ],
 "metadata": {
  "kernelspec": {
   "display_name": "Python 3.10.5 64-bit",
   "language": "python",
   "name": "python3"
  },
  "language_info": {
   "codemirror_mode": {
    "name": "ipython",
    "version": 3
   },
   "file_extension": ".py",
   "mimetype": "text/x-python",
   "name": "python",
   "nbconvert_exporter": "python",
   "pygments_lexer": "ipython3",
   "version": "3.10.5"
  },
  "orig_nbformat": 4,
  "vscode": {
   "interpreter": {
    "hash": "aee8b7b246df8f9039afb4144a1f6fd8d2ca17a180786b69acc140d282b71a49"
   }
  }
 },
 "nbformat": 4,
 "nbformat_minor": 2
}
